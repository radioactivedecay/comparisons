{
 "cells": [
  {
   "cell_type": "markdown",
   "metadata": {},
   "source": [
    "# Compare decay calculation results of radioactivedecay high precision mode and PyNE\n",
    "This notebook compares decay calculation results between the Python package [radioactivedecay](https://pypi.org/project/radioactivedecay/) `v0.4.14`, using its high precision mode, and [PyNE](https://pyne.io/) `v0.7.7`. The PyNE decay data is read in by radioactivedecay, so both codes are using the same underlying decay data for the calculations.\n",
    "\n",
    "Note the following radionuclides were removed from the decay dataset fed to radioactivedecay, as these radionuclides are part of chains where two radionuclides have degenerate half-lives: Po-191, Pt-183, Bi-191, Pb-187, Tl-187, Rn-195, At-195, Hg-183, Au-183, Pb-180, Hg-176, Tl-177, Pt-172, Ir-172, Lu-153 and Ta-157. radioactivedecay cannot calculate decays for chains containing radionuclides with identical half-lives, and the PyNE treatment for these chains currently suffers from a [bug](https://github.com/pyne/pyne/issues/1342).\n",
    "\n",
    "First import the necessary modules for the comparison."
   ]
  },
  {
   "cell_type": "code",
   "execution_count": 1,
   "metadata": {},
   "outputs": [
    {
     "name": "stdout",
     "output_type": "stream",
     "text": [
      "Package versions used: radioactivedecay 0.4.14 PyNE 0.7.7\n"
     ]
    }
   ],
   "source": [
    "import radioactivedecay as rd\n",
    "import pyne\n",
    "from pyne import nucname, data\n",
    "from pyne.material import Material, from_activity\n",
    "import numpy as np\n",
    "import pandas as pd\n",
    "import matplotlib.pyplot as plt\n",
    "\n",
    "print(\"Package versions used: radioactivedecay\", rd.__version__, \"PyNE\", pyne.__version__)"
   ]
  },
  {
   "cell_type": "markdown",
   "metadata": {},
   "source": [
    "### Load PyNE decay dataset into radioactivedecay, check a simple case\n",
    "\n",
    "Load the decay dataset created using the PyNE data into radioactivedecay."
   ]
  },
  {
   "cell_type": "code",
   "execution_count": 2,
   "metadata": {},
   "outputs": [],
   "source": [
    "pynedata = rd.decaydata.load_dataset(dataset_name=\"pyne_truncated\", dir_path=\".\", load_sympy=True)"
   ]
  },
  {
   "cell_type": "markdown",
   "metadata": {},
   "source": [
    "Define some functions to perform radioactive decay calculations for a single radionuclide with radioactivedecay and PyNE. To compare the results we have to remove the stable radionuclides from the inventory returned by PyNE. We also have to convert the canonical radionuclide ids into string format (e.g. `10030000` to `H-3`), and sort the inventory alphabetically."
   ]
  },
  {
   "cell_type": "code",
   "execution_count": 3,
   "metadata": {},
   "outputs": [],
   "source": [
    "def rd_decay(nuclide, time):\n",
    "    \"\"\"Perform a decay calculation for one radionuclide with radioactivedecay.\"\"\"\n",
    "\n",
    "    return rd.InventoryHP({nuclide: 1.0}, decay_data=pynedata).decay(time).activities()\n",
    "\n",
    "def add_hyphen(name):\n",
    "    \"\"\"Add a hypen to radionuclide name string e.g. H3 to H-3.\"\"\"\n",
    "\n",
    "    for i in range(1, len(name)):    \n",
    "        if not name[i].isdigit(): continue\n",
    "        name = name[:i] + \"-\" + name[i:]\n",
    "        break\n",
    "    return name\n",
    "\n",
    "def strip_stable(inv):\n",
    "    \"\"\"Remove stable nuclides from a PyNE inventory.\"\"\"\n",
    "\n",
    "    new_inv = dict()\n",
    "    for id in inv:\n",
    "        if data.decay_const(id) <= 0.0: continue\n",
    "        new_inv[add_hyphen(nucname.name(id))] = inv[id]\n",
    "    return new_inv\n",
    "\n",
    "def pyne_decay(nuclide, time):\n",
    "    \"\"\"Perform a decay calculation for one radionuclide with PyNE.\"\"\"\n",
    "\n",
    "    inv = strip_stable(from_activity({nucname.id(nuclide): 1.0}).decay(time).activity())\n",
    "    return dict(sorted(inv.items(), key=lambda x: x[0]))"
   ]
  },
  {
   "cell_type": "markdown",
   "metadata": {},
   "source": [
    "First let's compare the decay results for a single case - the decay of 1 unit (Bq or Ci) of Pb-212 for 0.0 seconds:"
   ]
  },
  {
   "cell_type": "code",
   "execution_count": 4,
   "metadata": {},
   "outputs": [
    {
     "name": "stdout",
     "output_type": "stream",
     "text": [
      "{'Bi-212': 0.0, 'Pb-212': 1.0, 'Po-212': 0.0, 'Tl-208': 0.0}\n",
      "{'Pb-212': 1.0000000000000002, 'Tl-208': 9.068518400455239e-17}\n"
     ]
    }
   ],
   "source": [
    "inv_rd = rd_decay(\"Pb-212\", 0.0)\n",
    "inv_pyne = pyne_decay(\"Pb-212\", 0.0)\n",
    "print(inv_rd)\n",
    "print(inv_pyne)"
   ]
  },
  {
   "cell_type": "markdown",
   "metadata": {},
   "source": [
    "radioactivedecay returns activities for all the radionuclides in the decay chain below Pb-212, even though they have zero activity. PyNE does not return activities for two of the radionuclides (Bi-212 and Po-212), presumably because it evaluated their activities to be exactly zero. A small non-zero activity is returned for Ti-208, and the activity of Pb-212 deviates slightly from unity. The likely explanation for these results is round-off errors.\n",
    "\n",
    "For the below comparisons, it makes sense to compare the activities of the radionuclides returned by both radioactivedecay and PyNE, whilst checking the activities of the radionuclides missing from the inventories returned by either radioactivedecay or PyNE are negligible. This function cuts down the inventories returned by radioactivedecay and PyNE to just the radionuclides present in both inventories. It also reports how many radionuclides were removed from each inventory to do this."
   ]
  },
  {
   "cell_type": "code",
   "execution_count": 5,
   "metadata": {},
   "outputs": [],
   "source": [
    "def match_inventories(inv1, inv2):\n",
    "    \"\"\"Cuts down the two inventories so they only contain the radionuclides present in both.\n",
    "    Also returns inventories of the radionuclides unique to each inventory.\"\"\"\n",
    "    \n",
    "    s1 = set(inv1.keys())\n",
    "    s2 = set(inv2.keys())\n",
    "    s = s1.intersection(s2)\n",
    "    inv1_intersection = {nuclide: inv1[nuclide] for nuclide in s}\n",
    "    inv2_intersection = {nuclide: inv2[nuclide] for nuclide in s}\n",
    "    inv1_difference = {nuclide: inv1[nuclide] for nuclide in s1.difference(s2)}\n",
    "    inv2_difference = {nuclide: inv2[nuclide] for nuclide in s2.difference(s1)}\n",
    "    return inv1_intersection, inv1_difference, inv2_intersection, inv2_difference"
   ]
  },
  {
   "cell_type": "markdown",
   "metadata": {},
   "source": [
    "### Generate decay calculation comparisons between radioactivedecay and PyNE\n",
    "\n",
    "We now systematically compare the results of decay calculations performed using radioactivedecay and PyNE. The strategy is the set initial inventories containing 1 Bq of each radionuclide in the decay dataset, and then decay for various time periods that are factor multiples of that radionuclides half-life. The factor multiples used are zero and each order of magnitude between 10<sup>-6</sup> and 10<sup>6</sup>, inclusive.\n",
    "\n",
    "We calculate the absolute activity error for each radionuclide returned by both radioactivedecay and PyNE in the decayed inventories, as well as the relative activity error to the PyNE activity. We store the results in a Pandas DataFrame. We also store the results for the radionuclides that are not returned in either the radioactivedecay or PyNE inventories for examination.\n",
    "\n",
    "Note: this next code block may take over an hour to run."
   ]
  },
  {
   "cell_type": "code",
   "execution_count": 6,
   "metadata": {},
   "outputs": [
    {
     "name": "stdout",
     "output_type": "stream",
     "text": [
      "0.0 complete\n",
      "1e-06 complete\n",
      "1e-05 complete\n",
      "0.0001 complete\n",
      "0.001 complete\n",
      "0.01 complete\n",
      "0.1 complete\n",
      "1.0 complete\n",
      "10.0 complete\n",
      "100.0 complete\n",
      "1000.0 complete\n",
      "10000.0 complete\n",
      "100000.0 complete\n",
      "1000000.0 complete\n"
     ]
    }
   ],
   "source": [
    "hl_factors = [0.0, 1e-6, 1e-5, 1e-4, 1e-3, 1e-2, 1e-1, 1e0, 1e1, 1e2, 1e3, 1e4, 1e5, 1e6]\n",
    "rows = []\n",
    "rows_pyne_missing = []\n",
    "rows_rd_missing = []\n",
    "\n",
    "for hl_factor in hl_factors:\n",
    "    for nuclide in pynedata.nuclides:\n",
    "        decay_time = hl_factor*rd.Nuclide(nuclide, decay_data=pynedata).half_life()\n",
    "        rd_inv = rd_decay(nuclide, decay_time)\n",
    "        pyne_inv = pyne_decay(nuclide, decay_time)\n",
    "        rd_inv, rd_unique, pyne_inv, pyne_unique = match_inventories(rd_inv, pyne_inv)\n",
    "\n",
    "        if len(rd_unique) != 0:\n",
    "            for nuc, act in rd_unique.items():\n",
    "                rows_pyne_missing.append({\n",
    "                    \"parent\": nuclide,\n",
    "                    \"hl_factor\": hl_factor,\n",
    "                    \"decay_time\": decay_time,\n",
    "                    \"pyne_missing_nuclide\": nuc,\n",
    "                    \"rd_activity\": act\n",
    "                })\n",
    "        if len(pyne_unique) != 0:\n",
    "            for nuc, act in pyne_unique.items():\n",
    "                rows_rd_missing.append({\n",
    "                    \"parent\": nuclide,\n",
    "                    \"hl_factor\": hl_factor,\n",
    "                    \"decay_time\": decay_time,\n",
    "                    \"rd_missing_nuclide\": nuc,\n",
    "                    \"pyne_activity\": act\n",
    "                })\n",
    "\n",
    "        for nuc, pyne_act in pyne_inv.items():\n",
    "            rd_act = rd_inv[nuc]\n",
    "            if pyne_act == 0.0:\n",
    "                if rd_act == 0.0:\n",
    "                    abs_err = 0.0\n",
    "                    rel_err = 0.0\n",
    "                else:\n",
    "                    abs_err = abs(rd_act)\n",
    "                    rel_err = np.inf\n",
    "            else:\n",
    "                abs_err = abs(pyne_act-rd_act)\n",
    "                rel_err = abs_err/abs(pyne_act)\n",
    "            \n",
    "            rows.append({\n",
    "                \"parent\": nuclide,\n",
    "                \"hl_factor\": hl_factor,\n",
    "                \"decay_time\": decay_time,\n",
    "                \"nuclide\": nuc,\n",
    "                \"pyne_activity\": pyne_act,\n",
    "                \"rd_activity\": rd_act,\n",
    "                \"abs_err\": abs_err,\n",
    "                \"rel_err\": rel_err,\n",
    "            })\n",
    "    print(hl_factor, \"complete\")\n",
    "\n",
    "df = pd.DataFrame(rows)\n",
    "df_pyne_missing = pd.DataFrame(rows_pyne_missing)\n",
    "df_rd_missing = pd.DataFrame(rows_rd_missing)"
   ]
  },
  {
   "cell_type": "markdown",
   "metadata": {},
   "source": [
    "### Examine cases where radionuclides not returned by radioactivedecay and PyNE\n",
    "\n",
    "First we check the cases where radionuclides returned by PyNE are not present in decayed inventory from radioactivedecay."
   ]
  },
  {
   "cell_type": "code",
   "execution_count": 7,
   "metadata": {},
   "outputs": [
    {
     "name": "stdout",
     "output_type": "stream",
     "text": [
      "Radionuclides not returned by radioactivedecay: ['Be-8' 'Re-192' 'Ho-170' 'He-8' 'H-3' 'Li-8']\n",
      "These cases arise from the decay chains of: ['He-10' 'Ta-192' 'Tb-170' 'H-6']\n",
      "Total number of missing cases: 68\n"
     ]
    }
   ],
   "source": [
    "print(\"Radionuclides not returned by radioactivedecay:\", df_rd_missing.rd_missing_nuclide.unique())\n",
    "print(\"These cases arise from the decay chains of:\", df_rd_missing.parent.unique())\n",
    "print(\"Total number of missing cases:\", len(df_rd_missing))"
   ]
  },
  {
   "cell_type": "markdown",
   "metadata": {},
   "source": [
    "radioactivedecay does not return activities for these radionuclides as the chains all pass through radionuclides which PyNE reports as having an undefined half-life:"
   ]
  },
  {
   "cell_type": "code",
   "execution_count": 8,
   "metadata": {},
   "outputs": [
    {
     "name": "stdout",
     "output_type": "stream",
     "text": [
      "nan nan nan nan\n"
     ]
    }
   ],
   "source": [
    "print(data.half_life(\"He-9\"), data.half_life(\"W-192\"), data.half_life(\"Dy-170\"), data.half_life(\"H-5\"))"
   ]
  },
  {
   "cell_type": "markdown",
   "metadata": {},
   "source": [
    "PyNE clearly has some assumption to infer the half-lives and simulate these decay chains.\n",
    "\n",
    "Now we check the radionuclides not returned by PyNE:"
   ]
  },
  {
   "cell_type": "code",
   "execution_count": 9,
   "metadata": {},
   "outputs": [
    {
     "name": "stdout",
     "output_type": "stream",
     "text": [
      "Total number of missing cases: 72319\n"
     ]
    },
    {
     "data": {
      "text/html": [
       "<div>\n",
       "<style scoped>\n",
       "    .dataframe tbody tr th:only-of-type {\n",
       "        vertical-align: middle;\n",
       "    }\n",
       "\n",
       "    .dataframe tbody tr th {\n",
       "        vertical-align: top;\n",
       "    }\n",
       "\n",
       "    .dataframe thead th {\n",
       "        text-align: right;\n",
       "    }\n",
       "</style>\n",
       "<table border=\"1\" class=\"dataframe\">\n",
       "  <thead>\n",
       "    <tr style=\"text-align: right;\">\n",
       "      <th></th>\n",
       "      <th>parent</th>\n",
       "      <th>hl_factor</th>\n",
       "      <th>decay_time</th>\n",
       "      <th>pyne_missing_nuclide</th>\n",
       "      <th>rd_activity</th>\n",
       "    </tr>\n",
       "  </thead>\n",
       "  <tbody>\n",
       "    <tr>\n",
       "      <th>27880</th>\n",
       "      <td>Fr-229</td>\n",
       "      <td>0.000100</td>\n",
       "      <td>0.005020</td>\n",
       "      <td>Fr-225</td>\n",
       "      <td>4.414967e-16</td>\n",
       "    </tr>\n",
       "    <tr>\n",
       "      <th>33440</th>\n",
       "      <td>Po-219</td>\n",
       "      <td>0.001000</td>\n",
       "      <td>0.620000</td>\n",
       "      <td>Tl-207</td>\n",
       "      <td>3.704170e-16</td>\n",
       "    </tr>\n",
       "    <tr>\n",
       "      <th>15660</th>\n",
       "      <td>Tl-192</td>\n",
       "      <td>0.000001</td>\n",
       "      <td>0.000576</td>\n",
       "      <td>Au-192</td>\n",
       "      <td>2.566800e-16</td>\n",
       "    </tr>\n",
       "    <tr>\n",
       "      <th>14933</th>\n",
       "      <td>Ra-228</td>\n",
       "      <td>0.000001</td>\n",
       "      <td>181.456200</td>\n",
       "      <td>Pb-212</td>\n",
       "      <td>2.093445e-16</td>\n",
       "    </tr>\n",
       "    <tr>\n",
       "      <th>28023</th>\n",
       "      <td>Po-219</td>\n",
       "      <td>0.000100</td>\n",
       "      <td>0.062000</td>\n",
       "      <td>Bi-211</td>\n",
       "      <td>1.528407e-16</td>\n",
       "    </tr>\n",
       "    <tr>\n",
       "      <th>29595</th>\n",
       "      <td>Lu-152</td>\n",
       "      <td>0.000100</td>\n",
       "      <td>0.000070</td>\n",
       "      <td>Er-152</td>\n",
       "      <td>6.481237e-17</td>\n",
       "    </tr>\n",
       "    <tr>\n",
       "      <th>29922</th>\n",
       "      <td>Sm-132</td>\n",
       "      <td>0.000100</td>\n",
       "      <td>0.000400</td>\n",
       "      <td>Pr-132</td>\n",
       "      <td>6.348938e-17</td>\n",
       "    </tr>\n",
       "    <tr>\n",
       "      <th>27992</th>\n",
       "      <td>Po-221</td>\n",
       "      <td>0.000100</td>\n",
       "      <td>0.011200</td>\n",
       "      <td>At-217</td>\n",
       "      <td>5.727656e-17</td>\n",
       "    </tr>\n",
       "    <tr>\n",
       "      <th>19950</th>\n",
       "      <td>Cf-249</td>\n",
       "      <td>0.000010</td>\n",
       "      <td>110767.176000</td>\n",
       "      <td>Am-241</td>\n",
       "      <td>4.596706e-17</td>\n",
       "    </tr>\n",
       "    <tr>\n",
       "      <th>14955</th>\n",
       "      <td>Th-227</td>\n",
       "      <td>0.000001</td>\n",
       "      <td>1.615421</td>\n",
       "      <td>Tl-207</td>\n",
       "      <td>4.539458e-17</td>\n",
       "    </tr>\n",
       "  </tbody>\n",
       "</table>\n",
       "</div>"
      ],
      "text/plain": [
       "       parent  hl_factor     decay_time pyne_missing_nuclide   rd_activity\n",
       "27880  Fr-229   0.000100       0.005020               Fr-225  4.414967e-16\n",
       "33440  Po-219   0.001000       0.620000               Tl-207  3.704170e-16\n",
       "15660  Tl-192   0.000001       0.000576               Au-192  2.566800e-16\n",
       "14933  Ra-228   0.000001     181.456200               Pb-212  2.093445e-16\n",
       "28023  Po-219   0.000100       0.062000               Bi-211  1.528407e-16\n",
       "29595  Lu-152   0.000100       0.000070               Er-152  6.481237e-17\n",
       "29922  Sm-132   0.000100       0.000400               Pr-132  6.348938e-17\n",
       "27992  Po-221   0.000100       0.011200               At-217  5.727656e-17\n",
       "19950  Cf-249   0.000010  110767.176000               Am-241  4.596706e-17\n",
       "14955  Th-227   0.000001       1.615421               Tl-207  4.539458e-17"
      ]
     },
     "execution_count": 9,
     "metadata": {},
     "output_type": "execute_result"
    }
   ],
   "source": [
    "print(\"Total number of missing cases:\", len(df_pyne_missing))\n",
    "df_pyne_missing.sort_values(by=[\"rd_activity\"], ascending=False).head(n=10)"
   ]
  },
  {
   "cell_type": "markdown",
   "metadata": {},
   "source": [
    "The maximum activity of any radionuclide returned by radioactivedecay but not returned by PyNE is 2.4E-14 Bq. The activities in all other cases are lower than this. This could be related to PyNE filtering out any results it considers negligible."
   ]
  },
  {
   "cell_type": "markdown",
   "metadata": {},
   "source": [
    "### Comparing decayed activities between radioactivedecay and PyNE\n",
    "\n",
    "We now compare the decayed activities of radionuclides returned both by radioactivedecay and by PyNE. For the 237095 comparisons, the mean and maximum absolute errors are 1.9E-17 Bq and 5.8E-14 Bq, respectively:"
   ]
  },
  {
   "cell_type": "code",
   "execution_count": 10,
   "metadata": {},
   "outputs": [
    {
     "data": {
      "text/html": [
       "<div>\n",
       "<style scoped>\n",
       "    .dataframe tbody tr th:only-of-type {\n",
       "        vertical-align: middle;\n",
       "    }\n",
       "\n",
       "    .dataframe tbody tr th {\n",
       "        vertical-align: top;\n",
       "    }\n",
       "\n",
       "    .dataframe thead th {\n",
       "        text-align: right;\n",
       "    }\n",
       "</style>\n",
       "<table border=\"1\" class=\"dataframe\">\n",
       "  <thead>\n",
       "    <tr style=\"text-align: right;\">\n",
       "      <th></th>\n",
       "      <th>hl_factor</th>\n",
       "      <th>decay_time</th>\n",
       "      <th>pyne_activity</th>\n",
       "      <th>rd_activity</th>\n",
       "      <th>abs_err</th>\n",
       "      <th>rel_err</th>\n",
       "    </tr>\n",
       "  </thead>\n",
       "  <tbody>\n",
       "    <tr>\n",
       "      <th>count</th>\n",
       "      <td>237095.000000</td>\n",
       "      <td>2.370950e+05</td>\n",
       "      <td>2.370950e+05</td>\n",
       "      <td>2.370950e+05</td>\n",
       "      <td>2.370950e+05</td>\n",
       "      <td>2.370950e+05</td>\n",
       "    </tr>\n",
       "    <tr>\n",
       "      <th>mean</th>\n",
       "      <td>61048.250216</td>\n",
       "      <td>1.148064e+30</td>\n",
       "      <td>9.653875e-02</td>\n",
       "      <td>9.653875e-02</td>\n",
       "      <td>1.870051e-17</td>\n",
       "      <td>inf</td>\n",
       "    </tr>\n",
       "    <tr>\n",
       "      <th>std</th>\n",
       "      <td>225951.144021</td>\n",
       "      <td>5.015659e+32</td>\n",
       "      <td>2.849834e-01</td>\n",
       "      <td>2.849834e-01</td>\n",
       "      <td>2.146792e-16</td>\n",
       "      <td>NaN</td>\n",
       "    </tr>\n",
       "    <tr>\n",
       "      <th>min</th>\n",
       "      <td>0.000000</td>\n",
       "      <td>0.000000e+00</td>\n",
       "      <td>0.000000e+00</td>\n",
       "      <td>0.000000e+00</td>\n",
       "      <td>0.000000e+00</td>\n",
       "      <td>0.000000e+00</td>\n",
       "    </tr>\n",
       "    <tr>\n",
       "      <th>25%</th>\n",
       "      <td>0.001000</td>\n",
       "      <td>5.150000e-03</td>\n",
       "      <td>2.784710e-29</td>\n",
       "      <td>3.700433e-35</td>\n",
       "      <td>1.549144e-39</td>\n",
       "      <td>3.334652e-16</td>\n",
       "    </tr>\n",
       "    <tr>\n",
       "      <th>50%</th>\n",
       "      <td>1.000000</td>\n",
       "      <td>2.640000e+01</td>\n",
       "      <td>8.984094e-17</td>\n",
       "      <td>8.395087e-17</td>\n",
       "      <td>2.219639e-26</td>\n",
       "      <td>2.862485e-13</td>\n",
       "    </tr>\n",
       "    <tr>\n",
       "      <th>75%</th>\n",
       "      <td>1000.000000</td>\n",
       "      <td>1.188000e+05</td>\n",
       "      <td>1.634520e-06</td>\n",
       "      <td>1.634520e-06</td>\n",
       "      <td>5.421011e-20</td>\n",
       "      <td>1.352986e-03</td>\n",
       "    </tr>\n",
       "    <tr>\n",
       "      <th>max</th>\n",
       "      <td>1000000.000000</td>\n",
       "      <td>2.429935e+35</td>\n",
       "      <td>1.000000e+00</td>\n",
       "      <td>1.000000e+00</td>\n",
       "      <td>4.708063e-14</td>\n",
       "      <td>inf</td>\n",
       "    </tr>\n",
       "  </tbody>\n",
       "</table>\n",
       "</div>"
      ],
      "text/plain": [
       "            hl_factor    decay_time  pyne_activity   rd_activity  \\\n",
       "count   237095.000000  2.370950e+05   2.370950e+05  2.370950e+05   \n",
       "mean     61048.250216  1.148064e+30   9.653875e-02  9.653875e-02   \n",
       "std     225951.144021  5.015659e+32   2.849834e-01  2.849834e-01   \n",
       "min          0.000000  0.000000e+00   0.000000e+00  0.000000e+00   \n",
       "25%          0.001000  5.150000e-03   2.784710e-29  3.700433e-35   \n",
       "50%          1.000000  2.640000e+01   8.984094e-17  8.395087e-17   \n",
       "75%       1000.000000  1.188000e+05   1.634520e-06  1.634520e-06   \n",
       "max    1000000.000000  2.429935e+35   1.000000e+00  1.000000e+00   \n",
       "\n",
       "            abs_err       rel_err  \n",
       "count  2.370950e+05  2.370950e+05  \n",
       "mean   1.870051e-17           inf  \n",
       "std    2.146792e-16           NaN  \n",
       "min    0.000000e+00  0.000000e+00  \n",
       "25%    1.549144e-39  3.334652e-16  \n",
       "50%    2.219639e-26  2.862485e-13  \n",
       "75%    5.421011e-20  1.352986e-03  \n",
       "max    4.708063e-14           inf  "
      ]
     },
     "execution_count": 10,
     "metadata": {},
     "output_type": "execute_result"
    }
   ],
   "source": [
    "df.describe()"
   ]
  },
  {
   "cell_type": "code",
   "execution_count": 11,
   "metadata": {},
   "outputs": [
    {
     "data": {
      "text/html": [
       "<div>\n",
       "<style scoped>\n",
       "    .dataframe tbody tr th:only-of-type {\n",
       "        vertical-align: middle;\n",
       "    }\n",
       "\n",
       "    .dataframe tbody tr th {\n",
       "        vertical-align: top;\n",
       "    }\n",
       "\n",
       "    .dataframe thead th {\n",
       "        text-align: right;\n",
       "    }\n",
       "</style>\n",
       "<table border=\"1\" class=\"dataframe\">\n",
       "  <thead>\n",
       "    <tr style=\"text-align: right;\">\n",
       "      <th></th>\n",
       "      <th>parent</th>\n",
       "      <th>hl_factor</th>\n",
       "      <th>decay_time</th>\n",
       "      <th>nuclide</th>\n",
       "      <th>pyne_activity</th>\n",
       "      <th>rd_activity</th>\n",
       "      <th>abs_err</th>\n",
       "      <th>rel_err</th>\n",
       "    </tr>\n",
       "  </thead>\n",
       "  <tbody>\n",
       "    <tr>\n",
       "      <th>63856</th>\n",
       "      <td>Ra-229</td>\n",
       "      <td>0.001000</td>\n",
       "      <td>0.24000</td>\n",
       "      <td>Fr-225</td>\n",
       "      <td>2.086748e-07</td>\n",
       "      <td>2.086747e-07</td>\n",
       "      <td>4.708063e-14</td>\n",
       "      <td>2.256173e-07</td>\n",
       "    </tr>\n",
       "    <tr>\n",
       "      <th>47197</th>\n",
       "      <td>Ra-229</td>\n",
       "      <td>0.000100</td>\n",
       "      <td>0.02400</td>\n",
       "      <td>Fr-225</td>\n",
       "      <td>2.088039e-09</td>\n",
       "      <td>2.087993e-09</td>\n",
       "      <td>4.542071e-14</td>\n",
       "      <td>2.175281e-05</td>\n",
       "    </tr>\n",
       "    <tr>\n",
       "      <th>63844</th>\n",
       "      <td>Fr-229</td>\n",
       "      <td>0.001000</td>\n",
       "      <td>0.05020</td>\n",
       "      <td>Fr-225</td>\n",
       "      <td>4.093686e-13</td>\n",
       "      <td>4.413865e-13</td>\n",
       "      <td>3.201798e-14</td>\n",
       "      <td>7.821309e-02</td>\n",
       "    </tr>\n",
       "    <tr>\n",
       "      <th>15954</th>\n",
       "      <td>Ra-229</td>\n",
       "      <td>0.000001</td>\n",
       "      <td>0.00024</td>\n",
       "      <td>Fr-225</td>\n",
       "      <td>2.302518e-13</td>\n",
       "      <td>2.088130e-13</td>\n",
       "      <td>2.143879e-14</td>\n",
       "      <td>9.311017e-02</td>\n",
       "    </tr>\n",
       "    <tr>\n",
       "      <th>47295</th>\n",
       "      <td>Pa-227</td>\n",
       "      <td>0.000100</td>\n",
       "      <td>0.22980</td>\n",
       "      <td>Bi-211</td>\n",
       "      <td>5.138163e-07</td>\n",
       "      <td>5.138163e-07</td>\n",
       "      <td>1.846189e-14</td>\n",
       "      <td>3.593091e-08</td>\n",
       "    </tr>\n",
       "    <tr>\n",
       "      <th>81252</th>\n",
       "      <td>Ra-229</td>\n",
       "      <td>0.010000</td>\n",
       "      <td>2.40000</td>\n",
       "      <td>Fr-225</td>\n",
       "      <td>2.074326e-05</td>\n",
       "      <td>2.074326e-05</td>\n",
       "      <td>1.720491e-14</td>\n",
       "      <td>8.294216e-10</td>\n",
       "    </tr>\n",
       "    <tr>\n",
       "      <th>81355</th>\n",
       "      <td>Pa-227</td>\n",
       "      <td>0.010000</td>\n",
       "      <td>22.98000</td>\n",
       "      <td>Bi-211</td>\n",
       "      <td>6.043617e-03</td>\n",
       "      <td>6.043617e-03</td>\n",
       "      <td>1.704019e-14</td>\n",
       "      <td>2.819535e-12</td>\n",
       "    </tr>\n",
       "    <tr>\n",
       "      <th>99510</th>\n",
       "      <td>Fr-229</td>\n",
       "      <td>0.100000</td>\n",
       "      <td>5.02000</td>\n",
       "      <td>Fr-225</td>\n",
       "      <td>4.294567e-07</td>\n",
       "      <td>4.294567e-07</td>\n",
       "      <td>1.570333e-14</td>\n",
       "      <td>3.656557e-08</td>\n",
       "    </tr>\n",
       "    <tr>\n",
       "      <th>118713</th>\n",
       "      <td>Ra-229</td>\n",
       "      <td>1.000000</td>\n",
       "      <td>240.00000</td>\n",
       "      <td>Fr-225</td>\n",
       "      <td>1.075964e-01</td>\n",
       "      <td>1.075964e-01</td>\n",
       "      <td>1.545986e-14</td>\n",
       "      <td>1.436838e-13</td>\n",
       "    </tr>\n",
       "    <tr>\n",
       "      <th>31541</th>\n",
       "      <td>Pa-227</td>\n",
       "      <td>0.000010</td>\n",
       "      <td>0.02298</td>\n",
       "      <td>Bi-211</td>\n",
       "      <td>1.426324e-09</td>\n",
       "      <td>1.426339e-09</td>\n",
       "      <td>1.500694e-14</td>\n",
       "      <td>1.052141e-05</td>\n",
       "    </tr>\n",
       "  </tbody>\n",
       "</table>\n",
       "</div>"
      ],
      "text/plain": [
       "        parent  hl_factor  decay_time nuclide  pyne_activity   rd_activity  \\\n",
       "63856   Ra-229   0.001000     0.24000  Fr-225   2.086748e-07  2.086747e-07   \n",
       "47197   Ra-229   0.000100     0.02400  Fr-225   2.088039e-09  2.087993e-09   \n",
       "63844   Fr-229   0.001000     0.05020  Fr-225   4.093686e-13  4.413865e-13   \n",
       "15954   Ra-229   0.000001     0.00024  Fr-225   2.302518e-13  2.088130e-13   \n",
       "47295   Pa-227   0.000100     0.22980  Bi-211   5.138163e-07  5.138163e-07   \n",
       "81252   Ra-229   0.010000     2.40000  Fr-225   2.074326e-05  2.074326e-05   \n",
       "81355   Pa-227   0.010000    22.98000  Bi-211   6.043617e-03  6.043617e-03   \n",
       "99510   Fr-229   0.100000     5.02000  Fr-225   4.294567e-07  4.294567e-07   \n",
       "118713  Ra-229   1.000000   240.00000  Fr-225   1.075964e-01  1.075964e-01   \n",
       "31541   Pa-227   0.000010     0.02298  Bi-211   1.426324e-09  1.426339e-09   \n",
       "\n",
       "             abs_err       rel_err  \n",
       "63856   4.708063e-14  2.256173e-07  \n",
       "47197   4.542071e-14  2.175281e-05  \n",
       "63844   3.201798e-14  7.821309e-02  \n",
       "15954   2.143879e-14  9.311017e-02  \n",
       "47295   1.846189e-14  3.593091e-08  \n",
       "81252   1.720491e-14  8.294216e-10  \n",
       "81355   1.704019e-14  2.819535e-12  \n",
       "99510   1.570333e-14  3.656557e-08  \n",
       "118713  1.545986e-14  1.436838e-13  \n",
       "31541   1.500694e-14  1.052141e-05  "
      ]
     },
     "execution_count": 11,
     "metadata": {},
     "output_type": "execute_result"
    }
   ],
   "source": [
    "df.sort_values(by=[\"abs_err\", \"rel_err\", \"pyne_activity\"], ascending=False).head(n=10)"
   ]
  },
  {
   "cell_type": "markdown",
   "metadata": {},
   "source": [
    "For around 8% of the activities compared the activity calculated by radioactivedecay and PyNE are identical:"
   ]
  },
  {
   "cell_type": "code",
   "execution_count": 12,
   "metadata": {},
   "outputs": [
    {
     "data": {
      "text/plain": [
       "18784"
      ]
     },
     "execution_count": 12,
     "metadata": {},
     "output_type": "execute_result"
    }
   ],
   "source": [
    "len(df[df.abs_err == 0.0])"
   ]
  },
  {
   "cell_type": "markdown",
   "metadata": {},
   "source": [
    "Now plot the errors. For cases where the PyNE activity is 0.0, we set these activity values to 10<sup>-70</sup> and the relative errors to 10<sup>17</sup> to force the points to show on the panel (a) log-log graph."
   ]
  },
  {
   "cell_type": "code",
   "execution_count": 13,
   "metadata": {},
   "outputs": [
    {
     "data": {
      "image/png": "[encoded data removed]",
      "text/plain": [
       "<Figure size 921.6x345.6 with 2 Axes>"
      ]
     },
     "metadata": {
      "needs_background": "light"
     },
     "output_type": "display_data"
    }
   ],
   "source": [
    "df.loc[(df[\"pyne_activity\"] == 0.0) & (df[\"rd_activity\"] != 0.0), \"pyne_activity\"] = 1e-70\n",
    "df.loc[df[\"rel_err\"] == np.inf, \"rel_err\"] = 1e17\n",
    "\n",
    "fig, ax = plt.subplots(nrows=1, ncols=2, figsize=(12.8,4.8))\n",
    "\n",
    "cmap_colors = plt.get_cmap(\"plasma\").colors\n",
    "colors = [\"black\"]\n",
    "n = len(hl_factors)-1\n",
    "colors.extend([\"\"] * n)\n",
    "for i in range(0, n):\n",
    "    colors[i+1] = cmap_colors[int(round((i*(len(cmap_colors)-1)/(n-1))))]\n",
    "\n",
    "for i in range(0, len(hl_factors)):\n",
    "    ax[0].plot(df[df.hl_factor == hl_factors[i]].pyne_activity, df[df.hl_factor == hl_factors[i]].rel_err,\n",
    "               marker=\".\", linestyle=\"\", label=hl_factors[i], color=colors[i])\n",
    "ax[0].set(xlabel=\"PyNE activity (Bq)\", ylabel=\"relative error\", xscale=\"log\", yscale=\"log\")\n",
    "ax[0].legend(loc=\"upper left\", title=\"half-life factor\")\n",
    "ax[0].text(-0.15, 1.0, \"(a)\", transform=ax[0].transAxes)\n",
    "ax[0].set_xlim(1e-104, 1e4)\n",
    "ax[0].set_ylim(1e-18, 1e18)\n",
    "\n",
    "for i in range(0, len(hl_factors)):\n",
    "    ax[1].plot(df[df.hl_factor == hl_factors[i]].abs_err, df[df.hl_factor == hl_factors[i]].rel_err,\n",
    "               marker=\".\", linestyle=\"\", label=hl_factors[i], color=colors[i])\n",
    "ax[1].set(xlabel=\"absolute error\", ylabel=\"relative error\", xscale=\"log\", yscale=\"log\")\n",
    "ax[1].legend(loc=\"upper right\", title=\"half-life factor\")\n",
    "ax[1].set_xlim(1e-25, 1e-7)\n",
    "_ = ax[1].text(-0.15, 1.0, \"(b)\", transform=ax[1].transAxes)"
   ]
  },
  {
   "cell_type": "markdown",
   "metadata": {},
   "source": [
    "In all cases the differences in activities reported by radioactivedecay and by PyNE are small (< 1E-13 Bq). Relative errors tend to increase as the radioactivity reported by PyNE decreases from 1 Bq. Relative errors greater than 1E-4 only occur when the PyNE activity is smaller than 2.5E-11."
   ]
  },
  {
   "cell_type": "code",
   "execution_count": 14,
   "metadata": {},
   "outputs": [
    {
     "data": {
      "text/plain": [
       "2.4516062878803175e-11"
      ]
     },
     "execution_count": 14,
     "metadata": {},
     "output_type": "execute_result"
    }
   ],
   "source": [
    "df[df.rel_err > 1E-4].pyne_activity.max()"
   ]
  },
  {
   "cell_type": "markdown",
   "metadata": {},
   "source": [
    "Export the DataFrames to CSV files:"
   ]
  },
  {
   "cell_type": "code",
   "execution_count": 15,
   "metadata": {},
   "outputs": [],
   "source": [
    "df.to_csv('radioactivedecay_high_precision_pyne.csv')\n",
    "df_pyne_missing.to_csv('radioactivedecay_high_precision_pyne_pyne_missing.csv')\n",
    "df_rd_missing.to_csv('radioactivedecay_high_precision_pyne_rd_missing.csv')"
   ]
  },
  {
   "cell_type": "markdown",
   "metadata": {},
   "source": [
    "### Summary\n",
    "\n",
    "The activity results reported by radioactivedecay and PyNE differ by less than 1E-13 Bq, given an initial inventory of 1 Bq of the parent radionuclide. PyNE used double precision floating point arithmetic for its decay calculations, while radioactivedecay used SymPy computations with a precision of 320 significant figures. PyNE used some slightly different treatments than radioactivedecay for calculating decay chains passing through almost stable radionuclides, and for filtering out radionuclides with negligible activities.\n",
    "\n",
    "In summary we can the results calculated by radioactivedecay and PyNE using the PyNE decay dataset are identical to within reasonable expectations for numerical precision."
   ]
  }
 ],
 "metadata": {
  "kernelspec": {
   "display_name": "Python 3",
   "language": "python",
   "name": "python3"
  },
  "language_info": {
   "codemirror_mode": {
    "name": "ipython",
    "version": 3
   },
   "file_extension": ".py",
   "mimetype": "text/x-python",
   "name": "python",
   "nbconvert_exporter": "python",
   "pygments_lexer": "ipython3",
   "version": "3.8.10"
  }
 },
 "nbformat": 4,
 "nbformat_minor": 2
}
